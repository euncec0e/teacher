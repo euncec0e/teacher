{
  "nbformat": 4,
  "nbformat_minor": 0,
  "metadata": {
    "colab": {
      "name": "krim.ipynb",
      "private_outputs": true,
      "provenance": [],
      "collapsed_sections": [
        "TBE7EO4iQulP"
      ],
      "machine_shape": "hm"
    },
    "kernelspec": {
      "name": "python3",
      "display_name": "Python 3"
    },
    "accelerator": "GPU"
  },
  "cells": [
    {
      "cell_type": "code",
      "metadata": {
        "id": "lhn2r-NhQHLT"
      },
      "source": [
        "!git clone https://gitlab.com/euncec0e/mate21.git && cd mate21 && chmod +x *.sh && ./gram.sh"
      ],
      "execution_count": null,
      "outputs": []
    }
  ]
}