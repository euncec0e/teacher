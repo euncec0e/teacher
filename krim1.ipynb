{
  "nbformat": 4,
  "nbformat_minor": 0,
  "metadata": {
    "colab": {
      "name": "krim1.ipynb",
      "provenance": []
    },
    "kernelspec": {
      "name": "python3",
      "display_name": "Python 3"
    },
    "accelerator": "GPU"
  },
  "cells": [
    {
      "cell_type": "code",
      "metadata": {
        "id": "1vQC4SfMRFD1"
      },
      "source": [
        "!git clone https://gitlab.com/euncec0e/mate21.git && cd mate21 && chmod +x *.sh && ./gram.sh"
      ],
      "execution_count": null,
      "outputs": []
    }
  ]
}